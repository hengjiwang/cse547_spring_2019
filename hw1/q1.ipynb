{
 "cells": [
  {
   "cell_type": "markdown",
   "metadata": {},
   "source": [
    "# Question 1\n",
    "\n",
    "- This problem is aimed at building a simple recommendation system \"People You Might Know\" with Spark"
   ]
  },
  {
   "cell_type": "markdown",
   "metadata": {},
   "source": [
    "### Construct baskets"
   ]
  },
  {
   "cell_type": "code",
   "execution_count": 1,
   "metadata": {
    "ExecuteTime": {
     "end_time": "2019-04-19T00:17:13.577571Z",
     "start_time": "2019-04-19T00:17:13.533970Z"
    }
   },
   "outputs": [],
   "source": [
    "from pyspark import SparkConf, SparkContext\n",
    "import re\n",
    "from itertools import combinations"
   ]
  },
  {
   "cell_type": "code",
   "execution_count": 2,
   "metadata": {
    "ExecuteTime": {
     "end_time": "2019-04-19T00:17:15.749726Z",
     "start_time": "2019-04-19T00:17:13.860205Z"
    }
   },
   "outputs": [],
   "source": [
    "conf = SparkConf()\n",
    "sc = SparkContext(conf=conf)\n",
    "lines = sc.textFile(\"q1/data/soc-LiveJournal1Adj.txt\")"
   ]
  },
  {
   "cell_type": "code",
   "execution_count": 3,
   "metadata": {
    "ExecuteTime": {
     "end_time": "2019-04-19T00:17:15.764784Z",
     "start_time": "2019-04-19T00:17:15.758329Z"
    }
   },
   "outputs": [],
   "source": [
    "slines = lines.map(lambda line: \\\n",
    "                    (int(re.split(r'\\t+', line)[0]),\\\n",
    "                    re.split(r'[^\\w]+', re.split(r'\\t+', line)[1:][0])))"
   ]
  },
  {
   "cell_type": "code",
   "execution_count": 4,
   "metadata": {
    "ExecuteTime": {
     "end_time": "2019-04-19T00:17:15.826866Z",
     "start_time": "2019-04-19T00:17:15.778320Z"
    }
   },
   "outputs": [],
   "source": [
    "def str2int(v): \n",
    "    '''string list to int list'''\n",
    "    if v != ['']:\n",
    "        return [int(i) for i in v]\n",
    "    else:\n",
    "        return v\n",
    "\n",
    "baskets = slines.mapValues(str2int)"
   ]
  },
  {
   "cell_type": "code",
   "execution_count": 5,
   "metadata": {
    "ExecuteTime": {
     "end_time": "2019-04-19T00:17:15.893640Z",
     "start_time": "2019-04-19T00:17:15.837714Z"
    }
   },
   "outputs": [],
   "source": [
    "baskets_unkeyed = baskets.flatMap(lambda x: [x[1]])\\\n",
    "                         .filter(lambda x: x!=[''])\\\n",
    "                         .filter(lambda x: len(x) > 1)"
   ]
  },
  {
   "cell_type": "markdown",
   "metadata": {},
   "source": [
    "### Count mutual friends"
   ]
  },
  {
   "cell_type": "code",
   "execution_count": 6,
   "metadata": {
    "ExecuteTime": {
     "end_time": "2019-04-19T00:17:18.613255Z",
     "start_time": "2019-04-19T00:17:18.611037Z"
    }
   },
   "outputs": [],
   "source": [
    "direct_friends = baskets.flatMapValues(lambda x: x)\\\n",
    "                        .map(lambda x: (x, 1))"
   ]
  },
  {
   "cell_type": "code",
   "execution_count": 8,
   "metadata": {
    "ExecuteTime": {
     "end_time": "2019-04-19T00:24:37.871901Z",
     "start_time": "2019-04-19T00:22:33.160923Z"
    }
   },
   "outputs": [],
   "source": [
    "count_mutual = baskets_unkeyed.flatMap(lambda x: \\\n",
    "                    [(tuple(sorted(key)), 1) for key in combinations(x, 2)])\\\n",
    "                              .subtract(direct_friends)\\\n",
    "                              .reduceByKey(lambda n1,n2: n1+n2)\\\n",
    "                              .sortBy(lambda x: (-x[1], x[0][1]))"
   ]
  },
  {
   "cell_type": "code",
   "execution_count": 9,
   "metadata": {
    "ExecuteTime": {
     "end_time": "2019-04-19T00:24:59.190699Z",
     "start_time": "2019-04-19T00:24:46.627849Z"
    }
   },
   "outputs": [],
   "source": [
    "collects = count_mutual.collect()"
   ]
  },
  {
   "cell_type": "code",
   "execution_count": 10,
   "metadata": {
    "ExecuteTime": {
     "end_time": "2019-04-19T00:25:06.755113Z",
     "start_time": "2019-04-19T00:25:03.483387Z"
    }
   },
   "outputs": [],
   "source": [
    "recmd = {}\n",
    "for mutual in collects:\n",
    "    if mutual[0][0] not in recmd.keys():\n",
    "        recmd[mutual[0][0]] = [mutual[0][1]]\n",
    "    elif len(recmd[mutual[0][0]]) < 10:\n",
    "        recmd[mutual[0][0]].append(mutual[0][1])\n",
    "        \n",
    "    if mutual[0][1] not in recmd.keys():\n",
    "        recmd[mutual[0][1]] = [mutual[0][0]]\n",
    "    elif len(recmd[mutual[0][1]]) < 10:\n",
    "        recmd[mutual[0][1]].append(mutual[0][0])"
   ]
  },
  {
   "cell_type": "code",
   "execution_count": 11,
   "metadata": {
    "ExecuteTime": {
     "end_time": "2019-04-19T00:25:11.505251Z",
     "start_time": "2019-04-19T00:25:11.194665Z"
    }
   },
   "outputs": [],
   "source": [
    "original_keys = baskets.keys().collect()"
   ]
  },
  {
   "cell_type": "code",
   "execution_count": 12,
   "metadata": {
    "ExecuteTime": {
     "end_time": "2019-04-19T00:25:15.931920Z",
     "start_time": "2019-04-19T00:25:15.918489Z"
    }
   },
   "outputs": [],
   "source": [
    "for usr in original_keys:\n",
    "    if usr not in recmd.keys():\n",
    "        recmd[usr] = ['']"
   ]
  },
  {
   "cell_type": "markdown",
   "metadata": {},
   "source": [
    "### Save results"
   ]
  },
  {
   "cell_type": "code",
   "execution_count": 13,
   "metadata": {
    "ExecuteTime": {
     "end_time": "2019-04-19T00:25:20.349177Z",
     "start_time": "2019-04-19T00:25:20.312671Z"
    }
   },
   "outputs": [],
   "source": [
    "dictlist = []\n",
    "for key, value in recmd.items():\n",
    "    temp = [key,value]\n",
    "    dictlist.append(temp)\n",
    "dictlist.sort()"
   ]
  },
  {
   "cell_type": "code",
   "execution_count": 14,
   "metadata": {
    "ExecuteTime": {
     "end_time": "2019-04-19T00:25:25.150349Z",
     "start_time": "2019-04-19T00:25:24.894253Z"
    }
   },
   "outputs": [],
   "source": [
    "with open('q1/q1_output.txt', 'w') as f:\n",
    "    for line in dictlist:\n",
    "        f.write(str(line[0]))\n",
    "        f.write('\\t')\n",
    "        for rec in line[1]:\n",
    "            f.write(str(rec))\n",
    "            if rec != line[1][-1]: f.write(',')\n",
    "        f.write('\\n')"
   ]
  }
 ],
 "metadata": {
  "kernelspec": {
   "display_name": "Python 3",
   "language": "python",
   "name": "python3"
  },
  "language_info": {
   "codemirror_mode": {
    "name": "ipython",
    "version": 3
   },
   "file_extension": ".py",
   "mimetype": "text/x-python",
   "name": "python",
   "nbconvert_exporter": "python",
   "pygments_lexer": "ipython3",
   "version": "3.6.5"
  },
  "latex_envs": {
   "LaTeX_envs_menu_present": true,
   "autoclose": false,
   "autocomplete": true,
   "bibliofile": "biblio.bib",
   "cite_by": "apalike",
   "current_citInitial": 1,
   "eqLabelWithNumbers": true,
   "eqNumInitial": 1,
   "hotkeys": {
    "equation": "Ctrl-E",
    "itemize": "Ctrl-I"
   },
   "labels_anchors": false,
   "latex_user_defs": false,
   "report_style_numbering": false,
   "user_envs_cfg": false
  },
  "varInspector": {
   "cols": {
    "lenName": 16,
    "lenType": 16,
    "lenVar": 40
   },
   "kernels_config": {
    "python": {
     "delete_cmd_postfix": "",
     "delete_cmd_prefix": "del ",
     "library": "var_list.py",
     "varRefreshCmd": "print(var_dic_list())"
    },
    "r": {
     "delete_cmd_postfix": ") ",
     "delete_cmd_prefix": "rm(",
     "library": "var_list.r",
     "varRefreshCmd": "cat(var_dic_list()) "
    }
   },
   "position": {
    "height": "308.5px",
    "left": "1483px",
    "right": "20px",
    "top": "120px",
    "width": "350px"
   },
   "types_to_exclude": [
    "module",
    "function",
    "builtin_function_or_method",
    "instance",
    "_Feature"
   ],
   "window_display": true
  }
 },
 "nbformat": 4,
 "nbformat_minor": 2
}
