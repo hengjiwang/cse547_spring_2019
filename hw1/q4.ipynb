{
 "cells": [
  {
   "cell_type": "markdown",
   "metadata": {},
   "source": [
    "# Question 4"
   ]
  },
  {
   "cell_type": "code",
   "execution_count": 1,
   "metadata": {
    "ExecuteTime": {
     "end_time": "2019-04-19T05:20:17.119055Z",
     "start_time": "2019-04-19T05:20:16.300530Z"
    }
   },
   "outputs": [],
   "source": [
    "# Authors: Jessica Su, Wanzi Zhou, Pratyaksh Sharma, Dylan Liu, Ansh Shukla\n",
    "\n",
    "import numpy as np\n",
    "import random\n",
    "import time\n",
    "import pdb\n",
    "import unittest\n",
    "from PIL import Image\n",
    "import matplotlib.pyplot as plt\n",
    "\n",
    "# Finds the L1 distance between two vectors\n",
    "# u and v are 1-dimensional np.array objects\n",
    "# TODO: Implement this\n",
    "def l1(u, v):\n",
    "    return np.linalg.norm(np.subtract(u,v), 1)\n",
    "    # raise NotImplementedError\n",
    "\n",
    "# Loads the data into a np array, where each row corresponds to\n",
    "# an image patch -- this step is sort of slow.\n",
    "# Each row in the data is an image, and there are 400 columns.\n",
    "def load_data(filename):\n",
    "    return np.genfromtxt(filename, delimiter=',')\n",
    "\n",
    "# Creates a hash function from a list of dimensions and thresholds.\n",
    "def create_function(dimensions, thresholds):\n",
    "    def f(v):\n",
    "        boolarray = [v[dimensions[i]] >= thresholds[i] for i in range(len(dimensions))]\n",
    "        return \"\".join(map(str, map(int, boolarray)))\n",
    "    return f\n",
    "\n",
    "# Creates the LSH functions (functions that compute L K-bit hash keys).\n",
    "# Each function selects k dimensions (i.e. column indices of the image matrix)\n",
    "# at random, and then chooses a random threshold for each dimension, between 0 and\n",
    "# 255.  For any image, if its value on a given dimension is greater than or equal to\n",
    "# the randomly chosen threshold, we set that bit to 1.  Each hash function returns\n",
    "# a length-k bit string of the form \"0101010001101001...\", and the L hash functions \n",
    "# will produce L such bit strings for each image.\n",
    "def create_functions(k, L, num_dimensions=400, min_threshold=0, max_threshold=255):\n",
    "    functions = []\n",
    "    for i in range(L):\n",
    "        dimensions = np.random.randint(low = 0, \n",
    "                                   high = num_dimensions,\n",
    "                                   size = k)\n",
    "        thresholds = np.random.randint(low = min_threshold, \n",
    "                                   high = max_threshold + 1, \n",
    "                                   size = k)\n",
    "\n",
    "        functions.append(create_function(dimensions, thresholds))\n",
    "    return functions\n",
    "\n",
    "# Hashes an individual vector (i.e. image).  This produces an array with L\n",
    "# entries, where each entry is a string of k bits.\n",
    "def hash_vector(functions, v):\n",
    "    return np.array([f(v) for f in functions])\n",
    "\n",
    "# Hashes the data in A, where each row is a datapoint, using the L\n",
    "# functions in \"functions.\"\n",
    "def hash_data(functions, A):\n",
    "    return np.array(list(map(lambda v: hash_vector(functions, v), A)))\n",
    "\n",
    "# Retrieve all of the points that hash to one of the same buckets \n",
    "# as the query point.  Do not do any random sampling (unlike what the first\n",
    "# part of this problem prescribes).\n",
    "# Don't retrieve a point if it is the same point as the query point.\n",
    "def get_candidates(hashed_A, hashed_point, query_index):\n",
    "    return filter(lambda i: i != query_index and \\\n",
    "        any(hashed_point == hashed_A[i]), range(len(hashed_A)))\n",
    "\n",
    "# Sets up the LSH.  You should try to call this function as few times as \n",
    "# possible, since it is expensive.\n",
    "# A: The dataset.\n",
    "# Return the LSH functions and hashed data structure.\n",
    "def lsh_setup(A, k = 24, L = 10):\n",
    "    functions = create_functions(k = k, L = L)\n",
    "    hashed_A = hash_data(functions, A)\n",
    "    return (functions, hashed_A)\n",
    "\n",
    "# Run the entire LSH algorithm\n",
    "def lsh_search(A, hashed_A, functions, query_index, num_neighbors = 10):\n",
    "    hashed_point = hash_vector(functions, A[query_index, :])\n",
    "    candidate_row_nums = get_candidates(hashed_A, hashed_point, query_index)\n",
    "    \n",
    "    distances = map(lambda r: (r, l1(A[r], A[query_index])), candidate_row_nums)\n",
    "    best_neighbors = sorted(distances, key=lambda t: t[1])[:num_neighbors]\n",
    "\n",
    "    return [t[0] for t in best_neighbors]\n",
    "\n",
    "# Plots images at the specified rows and saves them each to files.\n",
    "def plot(A, row_nums, base_filename):\n",
    "    for row_num in row_nums:\n",
    "        patch = np.reshape(A[row_num, :], [20, 20])\n",
    "        im = Image.fromarray(patch)\n",
    "        if im.mode != 'RGB':\n",
    "            im = im.convert('RGB')\n",
    "        im.save(base_filename + \"-\" + str(row_num) + \".png\")\n",
    "\n",
    "# Finds the nearest neighbors to a given vector, using linear search.\n",
    "def linear_search(A, query_index, num_neighbors=10):\n",
    "    distances = map(lambda r: (r, l1(A[r], A[query_index])), range(len(A)))\n",
    "    best_neighbors = sorted(distances, key=lambda t: t[1])[1:num_neighbors+1]\n",
    "\n",
    "    return [t[0] for t in best_neighbors]\n",
    "    # raise NotImplementedError #TODO"
   ]
  },
  {
   "cell_type": "code",
   "execution_count": 3,
   "metadata": {
    "ExecuteTime": {
     "end_time": "2019-04-19T05:21:11.326748Z",
     "start_time": "2019-04-19T05:21:11.318189Z"
    }
   },
   "outputs": [],
   "source": [
    "def error_measure(A, k=24, L=10):\n",
    "\n",
    "    functions, hashed_A = lsh_setup(A, k, L)\n",
    "\n",
    "    error = 0\n",
    "    for query_index in range(100, 1100, 100):\n",
    "        best_neighbors_lsh = lsh_search(A, hashed_A, functions, query_index, 3)\n",
    "        best_neighbors_linear = linear_search(A, query_index, 3)\n",
    "        d_lsh = 0   \n",
    "        d_linear = 0\n",
    "        for i in best_neighbors_lsh: d_lsh += l1(A[query_index], A[i])\n",
    "        for i in best_neighbors_linear: d_linear += l1(A[query_index], A[i])\n",
    "        error += d_lsh / d_linear\n",
    "    return error/10"
   ]
  },
  {
   "cell_type": "code",
   "execution_count": 4,
   "metadata": {
    "ExecuteTime": {
     "end_time": "2019-04-19T05:21:13.957803Z",
     "start_time": "2019-04-19T05:21:13.942528Z"
    },
    "scrolled": true
   },
   "outputs": [],
   "source": [
    "def average_time(A, k=24, L=10):\n",
    "    functions, hashed_A = lsh_setup(A, k, L)\n",
    "\n",
    "    best_neighbors_lsh = []\n",
    "    best_neighbors_linear = []\n",
    "    time_lsh = 0\n",
    "    time_linear = 0\n",
    "    for query_index in range(100, 1100, 100):\n",
    "        start_time = time.time()\n",
    "        best_neighbors_lsh.append(lsh_search(A, hashed_A, functions, query_index, 3))\n",
    "        time_lsh += time.time() - start_time\n",
    "\n",
    "        start_time = time.time()\n",
    "        best_neighbors_linear.append(linear_search(A, query_index, 3))\n",
    "        time_linear += time.time() - start_time\n",
    "\n",
    "    print('The average search time for LSH search is', time_lsh / 10)\n",
    "    print('The average search time for linear search is', time_linear / 10)\n"
   ]
  },
  {
   "cell_type": "code",
   "execution_count": 13,
   "metadata": {
    "ExecuteTime": {
     "end_time": "2019-04-19T05:24:40.493281Z",
     "start_time": "2019-04-19T05:24:28.856922Z"
    }
   },
   "outputs": [
    {
     "name": "stdout",
     "output_type": "stream",
     "text": [
      "The average search time for LSH search is 0.08589589595794678\n",
      "The average search time for linear search is 0.31459708213806153\n"
     ]
    }
   ],
   "source": [
    "average_time(A)"
   ]
  },
  {
   "cell_type": "code",
   "execution_count": 21,
   "metadata": {
    "ExecuteTime": {
     "end_time": "2019-04-19T05:31:04.456460Z",
     "start_time": "2019-04-19T05:31:04.418033Z"
    }
   },
   "outputs": [],
   "source": [
    "def plot_error(A):\n",
    "    error_values_L = [] \n",
    "    error_values_k = []\n",
    "    for L in range(10, 22, 2):\n",
    "        error_values_L.append(error_measure(A, L=L))\n",
    "    for k in range(16, 26, 2):\n",
    "        error_values_k.append(error_measure(A, k=k))\n",
    "\n",
    "    plt.figure(figsize=(15,6))\n",
    "    plt.subplot(121)\n",
    "    plt.plot(range(10,22,2), error_values_L, 'ro-')\n",
    "    plt.xlabel('L')\n",
    "    plt.ylabel('error value')\n",
    "    plt.title('k=24')\n",
    "    plt.subplot(122)\n",
    "    plt.plot(range(16,26,2), error_values_k, 'bo-')\n",
    "    plt.xlabel('k')\n",
    "    plt.ylabel('error value')\n",
    "    plt.title('L=10')\n",
    "    plt.savefig('error_values.png')"
   ]
  },
  {
   "cell_type": "code",
   "execution_count": 12,
   "metadata": {
    "ExecuteTime": {
     "end_time": "2019-04-19T05:24:17.260618Z",
     "start_time": "2019-04-19T05:24:17.253985Z"
    },
    "scrolled": true
   },
   "outputs": [],
   "source": [
    "def plot_near_neighbors(A):\n",
    "    functions, hashed_A = lsh_setup(A)\n",
    "    best_neigbors_lsh = lsh_search(A, hashed_A, functions, 100, 10)\n",
    "    best_neigbors_linear = linear_search(A, 100, 10)\n",
    "    plot(A, best_neigbors_lsh, 'lsh')\n",
    "    plot(A, best_neigbors_linear, 'linear')\n",
    "    plot(A, [100], 'patch')"
   ]
  },
  {
   "cell_type": "code",
   "execution_count": 16,
   "metadata": {
    "ExecuteTime": {
     "end_time": "2019-04-19T05:25:47.715928Z",
     "start_time": "2019-04-19T05:25:47.691446Z"
    }
   },
   "outputs": [],
   "source": [
    "def problem4():\n",
    "    A = load_data('q4/data/patches.csv')\n",
    "    average_time(A)\n",
    "    plot_error(A)\n",
    "    plot_near_neighbors(A)\n",
    "    # raise NotImplementedError\n",
    "\n",
    "#### TESTS #####\n",
    "\n",
    "class TestLSH(unittest.TestCase):\n",
    "    def test_l1(self):\n",
    "        u = np.array([1, 2, 3, 4])\n",
    "        v = np.array([2, 3, 2, 3])\n",
    "        self.assertEqual(l1(u, v), 4)\n",
    "\n",
    "    def test_hash_data(self):\n",
    "        f1 = lambda v: sum(v)\n",
    "        f2 = lambda v: sum([x * x for x in v])\n",
    "        A = np.array([[1, 2, 3], [4, 5, 6]])\n",
    "        self.assertEqual(f1(A[0,:]), 6)\n",
    "        self.assertEqual(f2(A[0,:]), 14)\n",
    "\n",
    "        functions = [f1, f2]\n",
    "        self.assertTrue(np.array_equal(hash_vector(functions, A[0, :]), np.array([6, 14])))\n",
    "        self.assertTrue(np.array_equal(hash_data(functions, A), np.array([[6, 14], [15, 77]])))\n",
    "\n",
    "    ### TODO: Write your tests here (they won't be graded, \n",
    "    ### but you may find them helpful)"
   ]
  },
  {
   "cell_type": "code",
   "execution_count": 22,
   "metadata": {
    "ExecuteTime": {
     "end_time": "2019-04-19T05:34:39.935136Z",
     "start_time": "2019-04-19T05:31:10.578699Z"
    }
   },
   "outputs": [
    {
     "name": "stdout",
     "output_type": "stream",
     "text": [
      "The average search time for LSH search is 0.08553493022918701\n",
      "The average search time for linear search is 0.32685678005218505\n"
     ]
    },
    {
     "data": {
      "image/png": "[encoded data removed]",
      "text/plain": [
       "<Figure size 1080x432 with 2 Axes>"
      ]
     },
     "metadata": {},
     "output_type": "display_data"
    }
   ],
   "source": [
    "if __name__ == '__main__':\n",
    "#    unittest.main() ### TODO: Uncomment this to run tests\n",
    "    problem4()"
   ]
  },
  {
   "cell_type": "code",
   "execution_count": null,
   "metadata": {},
   "outputs": [],
   "source": []
  }
 ],
 "metadata": {
  "kernelspec": {
   "display_name": "Python 3",
   "language": "python",
   "name": "python3"
  },
  "language_info": {
   "codemirror_mode": {
    "name": "ipython",
    "version": 3
   },
   "file_extension": ".py",
   "mimetype": "text/x-python",
   "name": "python",
   "nbconvert_exporter": "python",
   "pygments_lexer": "ipython3",
   "version": "3.6.5"
  },
  "latex_envs": {
   "LaTeX_envs_menu_present": true,
   "autoclose": false,
   "autocomplete": true,
   "bibliofile": "biblio.bib",
   "cite_by": "apalike",
   "current_citInitial": 1,
   "eqLabelWithNumbers": true,
   "eqNumInitial": 1,
   "hotkeys": {
    "equation": "Ctrl-E",
    "itemize": "Ctrl-I"
   },
   "labels_anchors": false,
   "latex_user_defs": false,
   "report_style_numbering": false,
   "user_envs_cfg": false
  },
  "varInspector": {
   "cols": {
    "lenName": 16,
    "lenType": 16,
    "lenVar": 40
   },
   "kernels_config": {
    "python": {
     "delete_cmd_postfix": "",
     "delete_cmd_prefix": "del ",
     "library": "var_list.py",
     "varRefreshCmd": "print(var_dic_list())"
    },
    "r": {
     "delete_cmd_postfix": ") ",
     "delete_cmd_prefix": "rm(",
     "library": "var_list.r",
     "varRefreshCmd": "cat(var_dic_list()) "
    }
   },
   "types_to_exclude": [
    "module",
    "function",
    "builtin_function_or_method",
    "instance",
    "_Feature"
   ],
   "window_display": false
  }
 },
 "nbformat": 4,
 "nbformat_minor": 2
}
