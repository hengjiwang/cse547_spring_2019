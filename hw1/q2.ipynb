{
 "cells": [
  {
   "cell_type": "markdown",
   "metadata": {},
   "source": [
    "# Question 2\n",
    "\n",
    "- This problem is aimed at recommanding products by finding products that are frequently browsered together "
   ]
  },
  {
   "cell_type": "code",
   "execution_count": 79,
   "metadata": {},
   "outputs": [],
   "source": [
    "from pyspark import SparkConf, SparkContext\n",
    "import re\n",
    "from itertools import combinations, permutations"
   ]
  },
  {
   "cell_type": "code",
   "execution_count": 29,
   "metadata": {},
   "outputs": [],
   "source": [
    "SUPPORT = 100"
   ]
  },
  {
   "cell_type": "code",
   "execution_count": 2,
   "metadata": {},
   "outputs": [],
   "source": [
    "conf = SparkConf()\n",
    "sc = SparkContext(conf=conf)\n",
    "lines = sc.textFile(\"q2/data/browsing.txt\")"
   ]
  },
  {
   "cell_type": "code",
   "execution_count": 47,
   "metadata": {},
   "outputs": [],
   "source": [
    "baskets = lines.map(lambda line: \\\n",
    "                    re.split(r'[^\\w]+', line))\\\n",
    "              .map(lambda line: [v for v in line[0:-1]])"
   ]
  },
  {
   "cell_type": "code",
   "execution_count": 114,
   "metadata": {},
   "outputs": [],
   "source": [
    "freq_items_1st = baskets.map(lambda line: [(v,1) for v in line])\\\n",
    "                        .flatMap(lambda x: x)\\\n",
    "                        .reduceByKey(lambda n1,n2: n1+n2)\\\n",
    "                        .filter(lambda x: x[1]>=SUPPORT)\n",
    "\n",
    "keys_1st = freq_items_1st.keys()\\\n",
    "                         .collect()\n",
    "dict_1st = dict(freq_items_1st.collect())"
   ]
  },
  {
   "cell_type": "code",
   "execution_count": 84,
   "metadata": {},
   "outputs": [],
   "source": [
    "def filter_frequent(line, keys):\n",
    "    '''pass the frequent items'''\n",
    "    l = []\n",
    "    for v in line:\n",
    "        if v in keys: l.append(v)\n",
    "    return l"
   ]
  },
  {
   "cell_type": "markdown",
   "metadata": {},
   "source": [
    "## 2d"
   ]
  },
  {
   "cell_type": "code",
   "execution_count": 124,
   "metadata": {},
   "outputs": [],
   "source": [
    "freq_items_2nd = baskets.filter(lambda x: filter_frequent(x, keys_1st))\\\n",
    "                    .flatMap(lambda x: \\\n",
    "                             [(key, 1) for key in permutations(x, 2)])\\\n",
    "                    .reduceByKey(lambda n1,n2: n1+n2)\\\n",
    "                    .filter(lambda x: x[1] >= SUPPORT)\\\n",
    "\n",
    "keys_2nd = freq_items_2nd.keys().collect()"
   ]
  },
  {
   "cell_type": "code",
   "execution_count": 121,
   "metadata": {},
   "outputs": [],
   "source": [
    "confidence_2nd = freq_items_2nd.map(lambda x: (x[0], x[1]/dict_1st[x[0][0]]))\\\n",
    "                               .sortBy(lambda x: (-x[1], x[0][0]))"
   ]
  },
  {
   "cell_type": "code",
   "execution_count": 123,
   "metadata": {},
   "outputs": [
    {
     "data": {
      "text/plain": [
       "[(('DAI93865', 'FRO40251'), 1.0),\n",
       " (('GRO85051', 'FRO40251'), 0.999176276771005),\n",
       " (('GRO38636', 'FRO40251'), 0.9906542056074766),\n",
       " (('ELE12951', 'FRO40251'), 0.9905660377358491),\n",
       " (('DAI88079', 'FRO40251'), 0.9867256637168141)]"
      ]
     },
     "execution_count": 123,
     "metadata": {},
     "output_type": "execute_result"
    }
   ],
   "source": [
    "confidence_2nd.take(5)"
   ]
  },
  {
   "cell_type": "markdown",
   "metadata": {},
   "source": [
    "## 2e"
   ]
  },
  {
   "cell_type": "code",
   "execution_count": null,
   "metadata": {},
   "outputs": [],
   "source": [
    "freq_items_3rd = baskets.filter(lambda x: filter_frequent(x, keys_1st))\\\n",
    "                    .flatMap(lambda x: \\\n",
    "                             [(key, 1) for key in permutations(x, 2)])\\\n",
    "                    .reduceByKey(lambda n1,n2: n1+n2)\\\n",
    "                    .filter(lambda x: x[1] >= SUPPORT)\\"
   ]
  },
  {
   "cell_type": "code",
   "execution_count": null,
   "metadata": {},
   "outputs": [],
   "source": []
  }
 ],
 "metadata": {
  "kernelspec": {
   "display_name": "Python 3",
   "language": "python",
   "name": "python3"
  },
  "language_info": {
   "codemirror_mode": {
    "name": "ipython",
    "version": 3
   },
   "file_extension": ".py",
   "mimetype": "text/x-python",
   "name": "python",
   "nbconvert_exporter": "python",
   "pygments_lexer": "ipython3",
   "version": "3.6.6"
  }
 },
 "nbformat": 4,
 "nbformat_minor": 2
}
