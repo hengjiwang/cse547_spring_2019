{
 "cells": [
  {
   "cell_type": "markdown",
   "metadata": {},
   "source": [
    "# Question 2\n",
    "\n",
    "- This problem is aimed at recommanding products by finding products that are frequently browsered together "
   ]
  },
  {
   "cell_type": "code",
   "execution_count": 3,
   "metadata": {
    "ExecuteTime": {
     "end_time": "2019-04-19T00:59:32.428624Z",
     "start_time": "2019-04-19T00:59:32.394994Z"
    }
   },
   "outputs": [],
   "source": [
    "from pyspark import SparkConf, SparkContext\n",
    "import re\n",
    "from itertools import combinations, permutations"
   ]
  },
  {
   "cell_type": "code",
   "execution_count": 4,
   "metadata": {
    "ExecuteTime": {
     "end_time": "2019-04-19T00:59:32.611813Z",
     "start_time": "2019-04-19T00:59:32.607294Z"
    }
   },
   "outputs": [],
   "source": [
    "SUPPORT = 100"
   ]
  },
  {
   "cell_type": "code",
   "execution_count": 5,
   "metadata": {
    "ExecuteTime": {
     "end_time": "2019-04-19T00:59:34.662140Z",
     "start_time": "2019-04-19T00:59:32.819834Z"
    }
   },
   "outputs": [],
   "source": [
    "conf = SparkConf()\n",
    "sc = SparkContext(conf=conf)\n",
    "lines = sc.textFile(\"q2/data/browsing.txt\")"
   ]
  },
  {
   "cell_type": "code",
   "execution_count": 6,
   "metadata": {
    "ExecuteTime": {
     "end_time": "2019-04-19T00:59:34.679150Z",
     "start_time": "2019-04-19T00:59:34.672215Z"
    }
   },
   "outputs": [],
   "source": [
    "baskets = lines.map(lambda line: \\\n",
    "                    re.split(r'[^\\w]+', line))\\\n",
    "              .map(lambda line: [v for v in line[0:-1]])"
   ]
  },
  {
   "cell_type": "code",
   "execution_count": 7,
   "metadata": {
    "ExecuteTime": {
     "end_time": "2019-04-19T00:59:35.668790Z",
     "start_time": "2019-04-19T00:59:34.695398Z"
    }
   },
   "outputs": [],
   "source": [
    "freq_items_1st = baskets.map(lambda line: [(v,1) for v in line])\\\n",
    "                        .flatMap(lambda x: x)\\\n",
    "                        .reduceByKey(lambda n1,n2: n1+n2)\\\n",
    "                        .filter(lambda x: x[1]>=SUPPORT)\n",
    "\n",
    "keys_1st = freq_items_1st.keys()\\\n",
    "                         .collect()\n",
    "dict_1st = dict(freq_items_1st.collect())"
   ]
  },
  {
   "cell_type": "markdown",
   "metadata": {},
   "source": [
    "## 2d"
   ]
  },
  {
   "cell_type": "code",
   "execution_count": 8,
   "metadata": {
    "ExecuteTime": {
     "end_time": "2019-04-19T00:59:44.974261Z",
     "start_time": "2019-04-19T00:59:35.679198Z"
    }
   },
   "outputs": [],
   "source": [
    "freq_items_2nd = baskets.filter(lambda x: [v for v in x if v in keys_1st])\\\n",
    "                    .flatMap(lambda x: \\\n",
    "                             [(key, 1) for key in permutations(x, 2)])\\\n",
    "                    .reduceByKey(lambda n1,n2: n1+n2)\\\n",
    "                    .filter(lambda x: x[1] >= SUPPORT)\n",
    "\n",
    "keys_2nd = freq_items_2nd.keys().collect()\n",
    "\n",
    "dict_2nd = dict(freq_items_2nd.collect())"
   ]
  },
  {
   "cell_type": "code",
   "execution_count": 9,
   "metadata": {
    "ExecuteTime": {
     "end_time": "2019-04-19T00:59:46.926895Z",
     "start_time": "2019-04-19T00:59:44.989292Z"
    }
   },
   "outputs": [],
   "source": [
    "confidence_2nd = freq_items_2nd.map(lambda x: (x[0], x[1]/dict_1st[x[0][0]]))\\\n",
    "                               .sortBy(lambda x: (-x[1], x[0][0]))"
   ]
  },
  {
   "cell_type": "code",
   "execution_count": 10,
   "metadata": {
    "ExecuteTime": {
     "end_time": "2019-04-19T00:59:47.912327Z",
     "start_time": "2019-04-19T00:59:46.942484Z"
    }
   },
   "outputs": [
    {
     "data": {
      "text/plain": [
       "[(('DAI93865', 'FRO40251'), 1.0),\n",
       " (('GRO85051', 'FRO40251'), 0.999176276771005),\n",
       " (('GRO38636', 'FRO40251'), 0.9906542056074766),\n",
       " (('ELE12951', 'FRO40251'), 0.9905660377358491),\n",
       " (('DAI88079', 'FRO40251'), 0.9867256637168141)]"
      ]
     },
     "execution_count": 10,
     "metadata": {},
     "output_type": "execute_result"
    }
   ],
   "source": [
    "confidence_2nd.take(5)"
   ]
  },
  {
   "cell_type": "markdown",
   "metadata": {},
   "source": [
    "## 2e"
   ]
  },
  {
   "cell_type": "code",
   "execution_count": 11,
   "metadata": {
    "ExecuteTime": {
     "end_time": "2019-04-19T00:59:47.928588Z",
     "start_time": "2019-04-19T00:59:47.924795Z"
    }
   },
   "outputs": [],
   "source": [
    "def sorttuple(l):\n",
    "    '''sort each tuple in l'''\n",
    "    l1 = []\n",
    "    for v in l:\n",
    "        l1.append(tuple(sorted(v)))\n",
    "    return l1"
   ]
  },
  {
   "cell_type": "code",
   "execution_count": 12,
   "metadata": {
    "ExecuteTime": {
     "end_time": "2019-04-19T00:59:47.998529Z",
     "start_time": "2019-04-19T00:59:47.944250Z"
    }
   },
   "outputs": [],
   "source": [
    "def expand(line):\n",
    "    '''expand pairs in the line to single elements'''\n",
    "    l = []\n",
    "    for v in line:\n",
    "        l.append(v[0])\n",
    "        l.append(v[1])\n",
    "    l = list(set(l))\n",
    "    return l"
   ]
  },
  {
   "cell_type": "code",
   "execution_count": 13,
   "metadata": {
    "ExecuteTime": {
     "end_time": "2019-04-19T00:59:48.072273Z",
     "start_time": "2019-04-19T00:59:48.022109Z"
    }
   },
   "outputs": [],
   "source": [
    "def prune_3rd(line, keys):\n",
    "    '''prune the triples which are not qualified'''\n",
    "    \n",
    "    l = []\n",
    "    \n",
    "    for v in line:\n",
    "        p = 1\n",
    "        for pair in combinations(v,2):\n",
    "            if pair not in keys: \n",
    "                p = 0\n",
    "                break\n",
    "        if p == 1: l.append(v)\n",
    "            \n",
    "    return l"
   ]
  },
  {
   "cell_type": "code",
   "execution_count": 14,
   "metadata": {
    "ExecuteTime": {
     "end_time": "2019-04-19T00:59:48.152023Z",
     "start_time": "2019-04-19T00:59:48.089822Z"
    }
   },
   "outputs": [],
   "source": [
    "freq_1_2nd = expand(keys_2nd)"
   ]
  },
  {
   "cell_type": "code",
   "execution_count": 15,
   "metadata": {
    "ExecuteTime": {
     "end_time": "2019-04-19T00:59:48.223377Z",
     "start_time": "2019-04-19T00:59:48.175363Z"
    }
   },
   "outputs": [],
   "source": [
    "k2 = [tuple(sorted(v)) for v in list(set(sorttuple(keys_2nd)))]"
   ]
  },
  {
   "cell_type": "code",
   "execution_count": 16,
   "metadata": {
    "ExecuteTime": {
     "end_time": "2019-04-19T00:59:48.315124Z",
     "start_time": "2019-04-19T00:59:48.236715Z"
    }
   },
   "outputs": [],
   "source": [
    "freq_items_3rd = baskets.filter(lambda x: [v for v in x if v in freq_1_2nd])\\\n",
    "                        .map(lambda x: [tuple(sorted(v)) for v in combinations(x, 3)])\\\n",
    "                        .flatMap(lambda x: [(v,1) for v in x if (v[0], v[1]) in k2 and (v[0], v[2]) in k2 and (v[1], v[2]) in k2])\\\n",
    "                        .reduceByKey(lambda n1, n2: n1+n2)\\\n",
    "                        .filter(lambda x: x[1] >= SUPPORT)"
   ]
  },
  {
   "cell_type": "code",
   "execution_count": 17,
   "metadata": {
    "ExecuteTime": {
     "end_time": "2019-04-19T01:02:40.216745Z",
     "start_time": "2019-04-19T00:59:48.333499Z"
    }
   },
   "outputs": [],
   "source": [
    "confidence_3rd = freq_items_3rd.flatMap(lambda x: \\\n",
    "                                        [((x[0][0:2], x[0][2]), x[1]/dict_2nd[x[0][0:2]]),\\\n",
    "                                         ((x[0][1:3], x[0][0]), x[1]/dict_2nd[x[0][1:3]]),\\\n",
    "                                         (((x[0][0], x[0][2]), x[0][1]), x[1]/dict_2nd[(x[0][0], x[0][2])])])\\\n",
    "                               .sortBy(lambda x: (-x[1], x[0][0], x[0]))"
   ]
  },
  {
   "cell_type": "code",
   "execution_count": 18,
   "metadata": {
    "ExecuteTime": {
     "end_time": "2019-04-19T01:02:40.361457Z",
     "start_time": "2019-04-19T01:02:40.235321Z"
    }
   },
   "outputs": [
    {
     "data": {
      "text/plain": [
       "[((('DAI23334', 'ELE92920'), 'DAI62779'), 1.0),\n",
       " ((('DAI31081', 'GRO85051'), 'FRO40251'), 1.0),\n",
       " ((('DAI55911', 'GRO85051'), 'FRO40251'), 1.0),\n",
       " ((('DAI62779', 'DAI88079'), 'FRO40251'), 1.0),\n",
       " ((('DAI75645', 'GRO85051'), 'FRO40251'), 1.0)]"
      ]
     },
     "execution_count": 18,
     "metadata": {},
     "output_type": "execute_result"
    }
   ],
   "source": [
    "confidence_3rd.take(5)"
   ]
  },
  {
   "cell_type": "code",
   "execution_count": null,
   "metadata": {},
   "outputs": [],
   "source": []
  }
 ],
 "metadata": {
  "kernelspec": {
   "display_name": "Python 3",
   "language": "python",
   "name": "python3"
  },
  "language_info": {
   "codemirror_mode": {
    "name": "ipython",
    "version": 3
   },
   "file_extension": ".py",
   "mimetype": "text/x-python",
   "name": "python",
   "nbconvert_exporter": "python",
   "pygments_lexer": "ipython3",
   "version": "3.6.5"
  },
  "latex_envs": {
   "LaTeX_envs_menu_present": true,
   "autoclose": false,
   "autocomplete": true,
   "bibliofile": "biblio.bib",
   "cite_by": "apalike",
   "current_citInitial": 1,
   "eqLabelWithNumbers": true,
   "eqNumInitial": 1,
   "hotkeys": {
    "equation": "Ctrl-E",
    "itemize": "Ctrl-I"
   },
   "labels_anchors": false,
   "latex_user_defs": false,
   "report_style_numbering": false,
   "user_envs_cfg": false
  },
  "varInspector": {
   "cols": {
    "lenName": 16,
    "lenType": 16,
    "lenVar": 40
   },
   "kernels_config": {
    "python": {
     "delete_cmd_postfix": "",
     "delete_cmd_prefix": "del ",
     "library": "var_list.py",
     "varRefreshCmd": "print(var_dic_list())"
    },
    "r": {
     "delete_cmd_postfix": ") ",
     "delete_cmd_prefix": "rm(",
     "library": "var_list.r",
     "varRefreshCmd": "cat(var_dic_list()) "
    }
   },
   "types_to_exclude": [
    "module",
    "function",
    "builtin_function_or_method",
    "instance",
    "_Feature"
   ],
   "window_display": false
  }
 },
 "nbformat": 4,
 "nbformat_minor": 2
}
