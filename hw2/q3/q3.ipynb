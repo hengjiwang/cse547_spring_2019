{
 "cells": [
  {
   "cell_type": "markdown",
   "metadata": {},
   "source": [
    "# Question 3"
   ]
  },
  {
   "cell_type": "code",
   "execution_count": 315,
   "metadata": {
    "ExecuteTime": {
     "end_time": "2019-04-29T06:56:36.480105Z",
     "start_time": "2019-04-29T06:56:36.474913Z"
    }
   },
   "outputs": [],
   "source": [
    "import numpy as np\n",
    "import matplotlib.pyplot as plt\n",
    "import re\n",
    "from tqdm import trange"
   ]
  },
  {
   "cell_type": "code",
   "execution_count": 316,
   "metadata": {
    "ExecuteTime": {
     "end_time": "2019-04-29T06:56:37.113589Z",
     "start_time": "2019-04-29T06:56:37.110868Z"
    }
   },
   "outputs": [],
   "source": [
    "# global variables\n",
    "K = 20\n",
    "LAMB = 0.1\n",
    "MAX_ITER = 40\n",
    "M = 1682\n",
    "N = 943"
   ]
  },
  {
   "cell_type": "code",
   "execution_count": 313,
   "metadata": {
    "ExecuteTime": {
     "end_time": "2019-04-29T01:19:29.953020Z",
     "start_time": "2019-04-29T01:19:29.816035Z"
    }
   },
   "outputs": [],
   "source": [
    "# Initialize Q and P\n",
    "def initialize():\n",
    "    q = np.random.uniform(0, np.sqrt(5/K), (M,K))\n",
    "    p = np.random.uniform(0, np.sqrt(5/K), (N,K))\n",
    "    return q,p\n",
    "        \n",
    "# Update epsilon\n",
    "def update_epsilon(qi, pu, riu):\n",
    "    epsl = 2 * (riu - qi@pu)\n",
    "    return epsl\n",
    "\n",
    "# string line to integars\n",
    "def line2int(line):\n",
    "    l = [int(v) for v in re.findall(r\"\\d+\",line)]\n",
    "    return (l[0]-1, l[1]-1, l[2])\n",
    "\n",
    "# Compute the error\n",
    "def error(path, q, p):\n",
    "    e = 0\n",
    "    with open(path) as f:\n",
    "        for line in f:\n",
    "            u, i, rating = line2int(line)\n",
    "            e += (rating - q[i]@p[u]) ** 2\n",
    "    \n",
    "    e += LAMB * (np.linalg.norm(p) ** 2 + np.linalg.norm(q) ** 2)\n",
    "    \n",
    "    return e\n",
    "\n",
    "# Do Iteration\n",
    "def iterate(q, p, path, eta, num_iter = MAX_ITER):\n",
    "    it = 0\n",
    "    errors = [error(path, q, p)]\n",
    "    q_new = np.copy(q)\n",
    "    p_new = np.copy(p)\n",
    "    \n",
    "    while it < num_iter:\n",
    "        with open(path) as f:\n",
    "            for line in f:\n",
    "                u, i, rating = line2int(line)\n",
    "                epsl = 2 * (rating - q[i]@p[u])\n",
    "                q_new[i] = (1-2*LAMB*eta)*q[i] + eta*epsl*p[u]\n",
    "                p_new[u] = (1-2*LAMB*eta)*p[u] + eta*epsl*q[i]            \n",
    "                q = np.copy(q_new)\n",
    "                p = np.copy(p_new)\n",
    "                if np.abs(epsl) > 1e4:\n",
    "                    return [np.Infinity]*num_iter\n",
    "                \n",
    "        # print(errors[-1])\n",
    "        errors.append(error(path, q, p))\n",
    "        it += 1\n",
    "    return errors\n",
    "\n",
    "# Search a good learning rate eta\n",
    "def search_eta(q, p, path, num_iter):\n",
    "    etas = [0.001, 0.002, 0.005, 0.01, 0.02, 0.05, 0.1]\n",
    "    l = []\n",
    "    for j in trange(len(etas)):\n",
    "        eta = etas[j]\n",
    "        l.append((eta, iterate(q,p,path,eta, num_iter)))\n",
    "    ind_best = np.where([v[1][-1] == np.min([v[1][-1] for v in l]) for v in l])[0][0]\n",
    "    eta_best = l[ind_best][0]  \n",
    "    return eta_best\n",
    "\n",
    "# Plot the errors versus number of iterations\n",
    "def plot(errors):\n",
    "    plt.figure()\n",
    "    plt.plot(errors, 'ro-')\n",
    "    plt.xlabel('number of iterations')\n",
    "    plt.ylabel('error')\n",
    "    plt.show()\n",
    "\n",
    "# Solution\n",
    "def solve_3b(path):\n",
    "    q,p = initialize()\n",
    "    eta = search_eta(q,p,path,10)\n",
    "    print('Eta is: ', eta)\n",
    "    errors = iterate(q,p,path,eta)\n",
    "    plot(errors)"
   ]
  },
  {
   "cell_type": "code",
   "execution_count": 312,
   "metadata": {
    "ExecuteTime": {
     "end_time": "2019-04-29T01:18:15.953950Z",
     "start_time": "2019-04-29T01:13:39.562960Z"
    }
   },
   "outputs": [
    {
     "name": "stderr",
     "output_type": "stream",
     "text": [
      "\n",
      "\n",
      "\n",
      "\n",
      "  0%|          | 0/7 [00:00<?, ?it/s]\u001b[A\u001b[A\u001b[A\u001b[A\n",
      "\n",
      "\n",
      "\n",
      " 14%|█▍        | 1/7 [00:27<02:46, 27.72s/it]\u001b[A\u001b[A\u001b[A\u001b[A\n",
      "\n",
      "\n",
      "\n",
      " 29%|██▊       | 2/7 [00:55<02:18, 27.72s/it]\u001b[A\u001b[A\u001b[A\u001b[A\n",
      "\n",
      "\n",
      "\n",
      " 43%|████▎     | 3/7 [01:22<01:50, 27.67s/it]\u001b[A\u001b[A\u001b[A\u001b[A\n",
      "\n",
      "\n",
      "\n",
      " 57%|█████▋    | 4/7 [01:50<01:22, 27.67s/it]\u001b[A\u001b[A\u001b[A\u001b[A\n",
      "\n",
      "\n",
      "\n",
      " 71%|███████▏  | 5/7 [02:18<00:55, 27.69s/it]\u001b[A\u001b[A\u001b[A\u001b[A\n",
      "\n",
      "\n",
      "\n",
      " 86%|████████▌ | 6/7 [02:45<00:27, 27.64s/it]\u001b[A\u001b[A\u001b[A\u001b[A\n",
      "\n",
      "\n",
      "\n",
      "100%|██████████| 7/7 [02:46<00:00, 19.49s/it]\u001b[A\u001b[A\u001b[A\u001b[A\n",
      "\n",
      "\n",
      "\n",
      "\u001b[A\u001b[A\u001b[A\u001b[A"
     ]
    },
    {
     "name": "stdout",
     "output_type": "stream",
     "text": [
      "Eta is:  0.02\n"
     ]
    },
    {
     "data": {
      "image/png": "[encoded data removed]",
      "text/plain": [
       "<Figure size 432x288 with 1 Axes>"
      ]
     },
     "metadata": {},
     "output_type": "display_data"
    }
   ],
   "source": [
    "if __name__ == '__main__':\n",
    "    solve_3b('data/ratings.train.txt')"
   ]
  },
  {
   "cell_type": "code",
   "execution_count": null,
   "metadata": {},
   "outputs": [],
   "source": []
  }
 ],
 "metadata": {
  "kernelspec": {
   "display_name": "Python 3",
   "language": "python",
   "name": "python3"
  },
  "language_info": {
   "codemirror_mode": {
    "name": "ipython",
    "version": 3
   },
   "file_extension": ".py",
   "mimetype": "text/x-python",
   "name": "python",
   "nbconvert_exporter": "python",
   "pygments_lexer": "ipython3",
   "version": "3.6.5"
  },
  "latex_envs": {
   "LaTeX_envs_menu_present": true,
   "autoclose": false,
   "autocomplete": true,
   "bibliofile": "biblio.bib",
   "cite_by": "apalike",
   "current_citInitial": 1,
   "eqLabelWithNumbers": true,
   "eqNumInitial": 1,
   "hotkeys": {
    "equation": "Ctrl-E",
    "itemize": "Ctrl-I"
   },
   "labels_anchors": false,
   "latex_user_defs": false,
   "report_style_numbering": false,
   "user_envs_cfg": false
  },
  "varInspector": {
   "cols": {
    "lenName": 16,
    "lenType": 16,
    "lenVar": 40
   },
   "kernels_config": {
    "python": {
     "delete_cmd_postfix": "",
     "delete_cmd_prefix": "del ",
     "library": "var_list.py",
     "varRefreshCmd": "print(var_dic_list())"
    },
    "r": {
     "delete_cmd_postfix": ") ",
     "delete_cmd_prefix": "rm(",
     "library": "var_list.r",
     "varRefreshCmd": "cat(var_dic_list()) "
    }
   },
   "types_to_exclude": [
    "module",
    "function",
    "builtin_function_or_method",
    "instance",
    "_Feature"
   ],
   "window_display": false
  }
 },
 "nbformat": 4,
 "nbformat_minor": 2
}
