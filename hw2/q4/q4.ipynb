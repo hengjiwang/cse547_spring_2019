{
 "cells": [
  {
   "cell_type": "markdown",
   "metadata": {},
   "source": [
    "# Question 4"
   ]
  },
  {
   "cell_type": "code",
   "execution_count": 63,
   "metadata": {
    "ExecuteTime": {
     "end_time": "2019-04-29T05:26:11.707665Z",
     "start_time": "2019-04-29T05:26:11.705171Z"
    }
   },
   "outputs": [],
   "source": [
    "import numpy as np\n",
    "import pandas as pd\n",
    "import re"
   ]
  },
  {
   "cell_type": "code",
   "execution_count": 4,
   "metadata": {
    "ExecuteTime": {
     "end_time": "2019-04-29T04:34:34.699594Z",
     "start_time": "2019-04-29T04:34:34.697770Z"
    }
   },
   "outputs": [],
   "source": [
    "M = 9985\n",
    "N = 563"
   ]
  },
  {
   "cell_type": "code",
   "execution_count": 106,
   "metadata": {
    "ExecuteTime": {
     "end_time": "2019-04-29T05:45:25.161238Z",
     "start_time": "2019-04-29T05:45:25.080715Z"
    }
   },
   "outputs": [],
   "source": [
    "# Load data\n",
    "def load(path):\n",
    "    return pd.read_csv(path, header=None, sep=' ')\n",
    "\n",
    "# Compute P\n",
    "def compute_p(r):\n",
    "    l = np.zeros(M)\n",
    "    r = r.values\n",
    "    for j in range(M):\n",
    "        l[j] = np.sum(r[j])\n",
    "    return np.diag(l)\n",
    "\n",
    "# Compute Q\n",
    "def compute_q(r):\n",
    "    l = np.zeros(N)\n",
    "    r = r.values\n",
    "    for j in range(N):\n",
    "        l[j] = np.sum(r[:,j])\n",
    "    return np.diag(l)\n",
    "\n",
    "# Compute the -1/2 power of a diagonal matrix\n",
    "def invsqrt(m):\n",
    "    l = []\n",
    "    for j in range(len(m)):\n",
    "        l.append(1/np.sqrt(m[j,j]))\n",
    "    return np.diag(l)\n",
    "\n",
    "# Compute Gamma in user-user case\n",
    "def compute_gamma_user(r):\n",
    "    p = compute_p(r)\n",
    "    return invsqrt(p)@r@r.T@invsqrt(p)@r\n",
    "\n",
    "# Compute Gamma in item-item case\n",
    "def compute_gamma_item(r):\n",
    "    q = compute_q(r)\n",
    "    return r@invsqrt(q)@r.T@r@invsqrt(q)\n",
    "\n",
    "# Find the names based on indices\n",
    "def names(col, path):\n",
    "    l = []\n",
    "    with open(path) as f:\n",
    "        for line in f: \n",
    "            l.append(line.strip('\\n').strip('\"'))\n",
    "            \n",
    "    name = [l[i] for i in col]\n",
    "    return name\n",
    "\n",
    "# Recommend five shows for Alex\n",
    "def recommend(path1, path2, ind, case):\n",
    "    \n",
    "    r = load(path1)\n",
    "    \n",
    "    if case == 'user-user':\n",
    "        gamma = compute_gamma_user(r)\n",
    "    elif case == 'item-item':\n",
    "        gamma = compute_gamma_item(r)\n",
    "    else:\n",
    "        raise ValueError('Case can only be user-user or item-item.')\n",
    "    \n",
    "    scores = gamma.iloc[ind-1, :100]\n",
    "    col5 = np.argsort(-scores)[:5]\n",
    "    name5 = names(col5, path2)\n",
    "    return name5  \n",
    "\n",
    "# Solution\n",
    "def solve_4d(path1, path2):\n",
    "    shows1 = recommend(path1, path2, 500, 'user-user')\n",
    "    shows2 = recommend(path1, path2, 500, 'item-item')\n",
    "    print(shows1)\n",
    "    print(shows2)"
   ]
  },
  {
   "cell_type": "code",
   "execution_count": 108,
   "metadata": {
    "ExecuteTime": {
     "end_time": "2019-04-29T05:46:02.730398Z",
     "start_time": "2019-04-29T05:45:48.608682Z"
    }
   },
   "outputs": [
    {
     "name": "stdout",
     "output_type": "stream",
     "text": [
      "['FOX 28 News at 10pm', 'Family Guy', '2009 NCAA Basketball Tournament', 'NBC 4 at Eleven', 'Two and a Half Men']\n",
      "['FOX 28 News at 10pm', 'Family Guy', 'NBC 4 at Eleven', '2009 NCAA Basketball Tournament', 'Access Hollywood']\n"
     ]
    }
   ],
   "source": [
    "if __name__ == '__main__':\n",
    "    solve_4d('data/user-shows.txt', 'data/shows.txt')"
   ]
  }
 ],
 "metadata": {
  "kernelspec": {
   "display_name": "Python 3",
   "language": "python",
   "name": "python3"
  },
  "language_info": {
   "codemirror_mode": {
    "name": "ipython",
    "version": 3
   },
   "file_extension": ".py",
   "mimetype": "text/x-python",
   "name": "python",
   "nbconvert_exporter": "python",
   "pygments_lexer": "ipython3",
   "version": "3.6.5"
  },
  "latex_envs": {
   "LaTeX_envs_menu_present": true,
   "autoclose": false,
   "autocomplete": true,
   "bibliofile": "biblio.bib",
   "cite_by": "apalike",
   "current_citInitial": 1,
   "eqLabelWithNumbers": true,
   "eqNumInitial": 1,
   "hotkeys": {
    "equation": "Ctrl-E",
    "itemize": "Ctrl-I"
   },
   "labels_anchors": false,
   "latex_user_defs": false,
   "report_style_numbering": false,
   "user_envs_cfg": false
  },
  "varInspector": {
   "cols": {
    "lenName": 16,
    "lenType": 16,
    "lenVar": 40
   },
   "kernels_config": {
    "python": {
     "delete_cmd_postfix": "",
     "delete_cmd_prefix": "del ",
     "library": "var_list.py",
     "varRefreshCmd": "print(var_dic_list())"
    },
    "r": {
     "delete_cmd_postfix": ") ",
     "delete_cmd_prefix": "rm(",
     "library": "var_list.r",
     "varRefreshCmd": "cat(var_dic_list()) "
    }
   },
   "types_to_exclude": [
    "module",
    "function",
    "builtin_function_or_method",
    "instance",
    "_Feature"
   ],
   "window_display": false
  }
 },
 "nbformat": 4,
 "nbformat_minor": 2
}
