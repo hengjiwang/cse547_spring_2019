{
 "cells": [
  {
   "cell_type": "code",
   "execution_count": 3,
   "metadata": {
    "ExecuteTime": {
     "end_time": "2019-04-12T16:10:05.571521Z",
     "start_time": "2019-04-12T16:10:05.419898Z"
    }
   },
   "outputs": [],
   "source": [
    "import re\n",
    "import sys\n",
    "from pyspark import SparkConf, SparkContext"
   ]
  },
  {
   "cell_type": "code",
   "execution_count": 4,
   "metadata": {
    "ExecuteTime": {
     "end_time": "2019-04-12T16:10:13.833784Z",
     "start_time": "2019-04-12T16:10:08.937883Z"
    }
   },
   "outputs": [],
   "source": [
    "conf = SparkConf()\n",
    "sc = SparkContext(conf=conf)\n",
    "lines = sc.textFile(\"pg100.txt\")\n",
    "words = lines.flatMap(lambda l: re.split(r'[^\\w]+', l))"
   ]
  },
  {
   "cell_type": "code",
   "execution_count": 15,
   "metadata": {
    "ExecuteTime": {
     "end_time": "2019-04-12T16:12:08.676650Z",
     "start_time": "2019-04-12T16:12:08.672404Z"
    }
   },
   "outputs": [],
   "source": [
    "alpha_words = words.filter(lambda w: len(w) > 0 and w[0].isalpha())"
   ]
  },
  {
   "cell_type": "code",
   "execution_count": 16,
   "metadata": {
    "ExecuteTime": {
     "end_time": "2019-04-12T16:12:09.689111Z",
     "start_time": "2019-04-12T16:12:09.685178Z"
    }
   },
   "outputs": [],
   "source": [
    "pairs = alpha_words.map(lambda w: (w.lower()[0], 1))"
   ]
  },
  {
   "cell_type": "code",
   "execution_count": 17,
   "metadata": {
    "ExecuteTime": {
     "end_time": "2019-04-12T16:12:10.189353Z",
     "start_time": "2019-04-12T16:12:10.120710Z"
    }
   },
   "outputs": [],
   "source": [
    "counts = pairs.reduceByKey(lambda n1, n2: n1+n2)"
   ]
  },
  {
   "cell_type": "code",
   "execution_count": 21,
   "metadata": {
    "ExecuteTime": {
     "end_time": "2019-04-12T16:12:43.410338Z",
     "start_time": "2019-04-12T16:12:43.136819Z"
    }
   },
   "outputs": [],
   "source": [
    "counts.saveAsTextFile(\"output\")"
   ]
  },
  {
   "cell_type": "code",
   "execution_count": 22,
   "metadata": {
    "ExecuteTime": {
     "end_time": "2019-04-12T16:12:48.159342Z",
     "start_time": "2019-04-12T16:12:48.078883Z"
    }
   },
   "outputs": [
    {
     "data": {
      "text/plain": [
       "[('p', 28059),\n",
       " ('g', 21167),\n",
       " ('c', 34983),\n",
       " ('s', 75226),\n",
       " ('b', 46001),\n",
       " ('i', 62420),\n",
       " ('r', 15234),\n",
       " ('y', 25926),\n",
       " ('l', 32389),\n",
       " ('d', 39173),\n",
       " ('j', 3372),\n",
       " ('h', 61028),\n",
       " ('t', 127781),\n",
       " ('e', 20409),\n",
       " ('o', 43712),\n",
       " ('w', 60097),\n",
       " ('f', 37186),\n",
       " ('u', 9230),\n",
       " ('a', 86000),\n",
       " ('n', 27313),\n",
       " ('m', 56252),\n",
       " ('v', 5801),\n",
       " ('k', 9535),\n",
       " ('q', 2388),\n",
       " ('z', 79),\n",
       " ('x', 14)]"
      ]
     },
     "execution_count": 22,
     "metadata": {},
     "output_type": "execute_result"
    }
   ],
   "source": [
    "counts.collect()"
   ]
  },
  {
   "cell_type": "code",
   "execution_count": null,
   "metadata": {},
   "outputs": [],
   "source": []
  }
 ],
 "metadata": {
  "kernelspec": {
   "display_name": "Python 3",
   "language": "python",
   "name": "python3"
  },
  "language_info": {
   "codemirror_mode": {
    "name": "ipython",
    "version": 3
   },
   "file_extension": ".py",
   "mimetype": "text/x-python",
   "name": "python",
   "nbconvert_exporter": "python",
   "pygments_lexer": "ipython3",
   "version": "3.6.8"
  },
  "latex_envs": {
   "LaTeX_envs_menu_present": true,
   "autoclose": false,
   "autocomplete": true,
   "bibliofile": "biblio.bib",
   "cite_by": "apalike",
   "current_citInitial": 1,
   "eqLabelWithNumbers": true,
   "eqNumInitial": 1,
   "hotkeys": {
    "equation": "Ctrl-E",
    "itemize": "Ctrl-I"
   },
   "labels_anchors": false,
   "latex_user_defs": false,
   "report_style_numbering": false,
   "user_envs_cfg": false
  },
  "varInspector": {
   "cols": {
    "lenName": 16,
    "lenType": 16,
    "lenVar": 40
   },
   "kernels_config": {
    "python": {
     "delete_cmd_postfix": "",
     "delete_cmd_prefix": "del ",
     "library": "var_list.py",
     "varRefreshCmd": "print(var_dic_list())"
    },
    "r": {
     "delete_cmd_postfix": ") ",
     "delete_cmd_prefix": "rm(",
     "library": "var_list.r",
     "varRefreshCmd": "cat(var_dic_list()) "
    }
   },
   "types_to_exclude": [
    "module",
    "function",
    "builtin_function_or_method",
    "instance",
    "_Feature"
   ],
   "window_display": false
  }
 },
 "nbformat": 4,
 "nbformat_minor": 2
}
