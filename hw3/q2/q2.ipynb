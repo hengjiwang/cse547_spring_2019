{
 "cells": [
  {
   "cell_type": "markdown",
   "metadata": {},
   "source": [
    "# Question 2"
   ]
  },
  {
   "cell_type": "code",
   "execution_count": 5,
   "metadata": {
    "ExecuteTime": {
     "end_time": "2019-05-15T05:59:55.507765Z",
     "start_time": "2019-05-15T05:59:45.725993Z"
    }
   },
   "outputs": [],
   "source": [
    "from pyspark import SparkConf, SparkContext\n",
    "import re\n",
    "from itertools import combinations\n",
    "conf = SparkConf()\n",
    "sc = SparkContext(conf=conf)"
   ]
  },
  {
   "cell_type": "code",
   "execution_count": 6,
   "metadata": {
    "ExecuteTime": {
     "end_time": "2019-05-15T05:59:55.520876Z",
     "start_time": "2019-05-15T05:59:55.518909Z"
    }
   },
   "outputs": [],
   "source": [
    "BETA = 0.8\n",
    "MAX_ITER = 40\n",
    "N = 100"
   ]
  },
  {
   "cell_type": "code",
   "execution_count": 7,
   "metadata": {
    "ExecuteTime": {
     "end_time": "2019-05-15T05:59:55.597648Z",
     "start_time": "2019-05-15T05:59:55.529014Z"
    }
   },
   "outputs": [],
   "source": [
    "# Load edges\n",
    "def load_edges(path):\n",
    "    data = sc.textFile(path)\n",
    "    return data.map(lambda line: \\\n",
    "                    (int(re.split(r'\\t+', line)[0]),\\\n",
    "                    int(re.split(r'\\t+', line)[1:][0])))\n",
    "\n",
    "# Combine same edges\n",
    "def combine(rdd):\n",
    "    return rdd.groupByKey()\\\n",
    "              .mapValues(lambda x: sorted(list(set([v for v in x]))))\\\n",
    "              .sortByKey()\n",
    "\n",
    "# Obtain outgoing degrees\n",
    "def inv_degrees(rdd):\n",
    "    return rdd.map(lambda x: 1/len(x[1])).collect()\n",
    "\n",
    "# Graph\n",
    "def M(rdd, inv_d):\n",
    "    return rdd.flatMapValues(lambda x: x)\\\n",
    "      .map(lambda x: (x[1], x[0]))\\\n",
    "      .groupByKey()\\\n",
    "      .mapValues(lambda x: [(v, inv_d[v-1]) for v in x])\\\n",
    "      .sortByKey()\n",
    "\n",
    "# Initialize r\n",
    "def initialize_r():\n",
    "    return [1/N]*N\n",
    "\n",
    "# PageRank\n",
    "def pagerank(r, m):\n",
    "    return m.mapValues(lambda x: sum([r[v[0]-1]*v[1]*BETA for v in x]))\\\n",
    "            .mapValues(lambda x: x+(1-BETA)/N)\\\n",
    "            .map(lambda lines: lines[1]).collect()\n",
    "\n",
    "# Iterate\n",
    "def iterate(r, m):\n",
    "    for j in range(MAX_ITER):\n",
    "        r = pagerank(r, m)\n",
    "    return r\n",
    "\n",
    "# Find the top and bottom nodes\n",
    "def top_and_bottom(r):\n",
    "    r_sorted = sorted(r)\n",
    "    r = np.array(r)\n",
    "    bottom = []\n",
    "    top = []\n",
    "    for j in range(5):\n",
    "        bottom.append((np.where(r==r_sorted[j])[0][0]+1, r_sorted[j]))\n",
    "        top.append((np.where(r==r_sorted[-j-1])[0][0]+1, r_sorted[-j-1]))\n",
    "    return top, bottom\n",
    "\n",
    "# Print results\n",
    "def print_results(top, bottom):\n",
    "    print('------Solution for 2a------')\n",
    "    print('Top:')\n",
    "    for j in range(5):\n",
    "        print('id: '+ str(top[j][0]) + ', score: '+str(top[j][1]))\n",
    "    print('\\nBottom:')\n",
    "    for j in range(5):\n",
    "        print('id: '+ str(bottom[j][0]) + ', score: '+str(bottom[j][1]))\n",
    "\n",
    "# Solution\n",
    "def solve_2a(path):\n",
    "    edges = load_edges(path)\n",
    "    edges = combine(edges)\n",
    "    inv_d = inv_degrees(edges)\n",
    "    graph = M(edges, inv_d)\n",
    "    r = initialize_r()\n",
    "    r = iterate(r, graph)\n",
    "    top, bottom = top_and_bottom(r)\n",
    "    print_results(top, bottom)"
   ]
  },
  {
   "cell_type": "code",
   "execution_count": 30,
   "metadata": {
    "ExecuteTime": {
     "end_time": "2019-05-15T06:18:35.260634Z",
     "start_time": "2019-05-15T06:18:35.249155Z"
    }
   },
   "outputs": [],
   "source": [
    "# Initialize h\n",
    "def initialize_h():\n",
    "    return [1]*N\n",
    "\n",
    "# Link matrix\n",
    "def LT(rdd):\n",
    "    return rdd.flatMapValues(lambda x: x)\\\n",
    "      .map(lambda x: (x[1], x[0]))\\\n",
    "      .groupByKey()\\\n",
    "      .mapValues(lambda x: [v for v in x])\\\n",
    "      .sortByKey()\n",
    "\n",
    "# Compute a\n",
    "def A(h, lt):\n",
    "    return lt.mapValues(lambda x: sum([h[v-1] for v in x]))\\\n",
    "             .map(lambda lines: lines[1]).collect()\n",
    "\n",
    "# Compute h\n",
    "def H(a, l):\n",
    "    return l.mapValues(lambda x: sum([a[v-1] for v in x]))\\\n",
    "            .map(lambda lines: lines[1]).collect()\n",
    "\n",
    "# Iterate\n",
    "def iterate_b(h,l,lt):\n",
    "    for j in range(MAX_ITER):\n",
    "        a = A(h, lt)\n",
    "        a_max = max(a)\n",
    "        for j in range(len(a)): a[j] /= a_max\n",
    "        h = H(a, l)\n",
    "        h_max = max(h)\n",
    "        for j in range(len(h)): h[j] /= h_max\n",
    "    return a, h\n",
    "\n",
    "# Print results\n",
    "def print_results_b(top_a, bottom_a, top_h, bottom_h):\n",
    "    print('\\n------Solution for 2b------')\n",
    "    print('Top Hubbiness:')\n",
    "    for j in range(5):\n",
    "        print('id: '+ str(top_h[j][0]) + ', score: '+str(top_h[j][1]))\n",
    "    print('\\nBottom Hubbiness:')\n",
    "    for j in range(5):\n",
    "        print('id: '+ str(bottom_h[j][0]) + ', score: '+str(bottom_h[j][1]))\n",
    "    print('\\nTop Authority:')\n",
    "    for j in range(5):\n",
    "        print('id: '+ str(top_a[j][0]) + ', score: '+str(top_a[j][1]))\n",
    "    print('\\nBottom Authority:')\n",
    "    for j in range(5):\n",
    "        print('id: '+ str(bottom_a[j][0]) + ', score: '+str(bottom_a[j][1]))\n",
    "\n",
    "# Solution for b\n",
    "def solve_2b(path):\n",
    "    edges = load_edges(path)\n",
    "    l = combine(edges)\n",
    "    lt = LT(l)\n",
    "    h = initialize_h()\n",
    "    a, h = iterate_b(h,l,lt)\n",
    "    \n",
    "    top_a, bottom_a = top_and_bottom(a)\n",
    "    top_h, bottom_h = top_and_bottom(h)\n",
    "    print_results_b(top_a, bottom_a, top_h, bottom_h)"
   ]
  },
  {
   "cell_type": "code",
   "execution_count": 31,
   "metadata": {
    "ExecuteTime": {
     "end_time": "2019-05-15T06:18:42.607144Z",
     "start_time": "2019-05-15T06:18:35.828404Z"
    }
   },
   "outputs": [
    {
     "name": "stdout",
     "output_type": "stream",
     "text": [
      "\n",
      "------Solution for 2b------\n",
      "Top Hubbiness:\n",
      "id: 59, score: 1.0\n",
      "id: 39, score: 0.9810799133868425\n",
      "id: 22, score: 0.9741107079593092\n",
      "id: 11, score: 0.9574282616181096\n",
      "id: 58, score: 0.9574262000187687\n",
      "\n",
      "Bottom Hubbiness:\n",
      "id: 9, score: 0.20936882949300997\n",
      "id: 35, score: 0.21233808216249786\n",
      "id: 15, score: 0.22106736398255405\n",
      "id: 95, score: 0.2297612686427331\n",
      "id: 53, score: 0.23548212611307842\n",
      "\n",
      "Top Authority:\n",
      "id: 66, score: 1.0\n",
      "id: 40, score: 0.98253375206419\n",
      "id: 27, score: 0.9567022310293514\n",
      "id: 53, score: 0.895179582844727\n",
      "id: 1, score: 0.8215488570187269\n",
      "\n",
      "Bottom Authority:\n",
      "id: 54, score: 0.0485967640487227\n",
      "id: 33, score: 0.055604337523114784\n",
      "id: 24, score: 0.06366924801269334\n",
      "id: 67, score: 0.0676041033486925\n",
      "id: 50, score: 0.06971236451749908\n"
     ]
    }
   ],
   "source": [
    "if __name__ == '__main__':\n",
    "#     solve_2a(\"data/graph-full.txt\")\n",
    "    solve_2b(\"data/graph-small.txt\")"
   ]
  },
  {
   "cell_type": "code",
   "execution_count": null,
   "metadata": {},
   "outputs": [],
   "source": []
  }
 ],
 "metadata": {
  "kernelspec": {
   "display_name": "Python 3",
   "language": "python",
   "name": "python3"
  },
  "language_info": {
   "codemirror_mode": {
    "name": "ipython",
    "version": 3
   },
   "file_extension": ".py",
   "mimetype": "text/x-python",
   "name": "python",
   "nbconvert_exporter": "python",
   "pygments_lexer": "ipython3",
   "version": "3.7.3"
  },
  "latex_envs": {
   "LaTeX_envs_menu_present": true,
   "autoclose": false,
   "autocomplete": true,
   "bibliofile": "biblio.bib",
   "cite_by": "apalike",
   "current_citInitial": 1,
   "eqLabelWithNumbers": true,
   "eqNumInitial": 1,
   "hotkeys": {
    "equation": "Ctrl-E",
    "itemize": "Ctrl-I"
   },
   "labels_anchors": false,
   "latex_user_defs": false,
   "report_style_numbering": false,
   "user_envs_cfg": false
  },
  "varInspector": {
   "cols": {
    "lenName": 16,
    "lenType": 16,
    "lenVar": 40
   },
   "kernels_config": {
    "python": {
     "delete_cmd_postfix": "",
     "delete_cmd_prefix": "del ",
     "library": "var_list.py",
     "varRefreshCmd": "print(var_dic_list())"
    },
    "r": {
     "delete_cmd_postfix": ") ",
     "delete_cmd_prefix": "rm(",
     "library": "var_list.r",
     "varRefreshCmd": "cat(var_dic_list()) "
    }
   },
   "types_to_exclude": [
    "module",
    "function",
    "builtin_function_or_method",
    "instance",
    "_Feature"
   ],
   "window_display": false
  }
 },
 "nbformat": 4,
 "nbformat_minor": 2
}
